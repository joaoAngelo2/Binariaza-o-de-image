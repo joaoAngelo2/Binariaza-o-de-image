{
 "cells": [
  {
   "cell_type": "code",
   "execution_count": 2,
   "id": "dbe8fce6-e344-4d30-8ef9-d4191f9d8521",
   "metadata": {},
   "outputs": [
    {
     "name": "stdout",
     "output_type": "stream",
     "text": [
      "Requirement already satisfied: pillow in c:\\users\\eucli\\anaconda3\\lib\\site-packages (10.3.0)\n",
      "Note: you may need to restart the kernel to use updated packages.\n"
     ]
    }
   ],
   "source": [
    "pip install pillow"
   ]
  },
  {
   "cell_type": "code",
   "execution_count": 9,
   "id": "704e119e-8336-496e-8ef7-aa31783401b2",
   "metadata": {},
   "outputs": [],
   "source": [
    "from PIL import Image\n",
    "import matplotlib.pyplot as plt\n",
    "import numpy as np\n",
    "import os"
   ]
  },
  {
   "cell_type": "code",
   "execution_count": 47,
   "id": "fa671c55-c863-40d0-8d57-eed7dd64a16d",
   "metadata": {},
   "outputs": [],
   "source": [
    "mg = Image.open('gato.jpeg')\n",
    "\n",
    "img = np.array(mg)\n",
    "\n",
    "def convert_img_to_gray(img, luma=False):\n",
    "       # Verificar se a imagem já está em escala de cinza (1 canal)\n",
    "    if img.ndim == 2:\n",
    "        print(\"A imagem já está em escala de cinza.\")\n",
    "        return img\n",
    "\n",
    "    # Verificar se a imagem tem 3 canais (RGB)\n",
    "    if img.ndim < 3 or img.shape[2] < 3:\n",
    "        raise ValueError(\"A imagem precisa ter 3 canais (RGB) ou ser em escala de cinza.\")\n",
    "\n",
    "    # Parâmetros de luminosidade\n",
    "    params = [0.299, 0.587, 0.114] if luma else [0.2125, 0.7154, 0.0721]\n",
    "\n",
    "    # Converter para escala de cinza\n",
    "    img_gray = np.dot(img[..., :3].astype(float), params)\n",
    "\n",
    "    # Saturar os valores entre 0 e 255\n",
    "    img_gray = np.clip(img_gray, 0, 255)\n",
    "\n",
    "    return img_gray.astype(np.uint8)  # Retorna os valores como inteiros de 8 bits\n",
    "\n",
    "    return img_gray.astype(np.uint8)"
   ]
  },
  {
   "cell_type": "code",
   "execution_count": 49,
   "id": "2dd99241-09f2-4087-95fd-0ffaf89e358e",
   "metadata": {},
   "outputs": [],
   "source": [
    "img_gray = convert_img_to_gray(img, luma=False)\n"
   ]
  },
  {
   "cell_type": "code",
   "execution_count": 73,
   "id": "64325fee-57d3-438e-8817-3728701153c2",
   "metadata": {},
   "outputs": [],
   "source": [
    "def convert_image_to_black_white(img):\n",
    "    # Verificar se é um array NumPy\n",
    "    if isinstance(img, np.ndarray):\n",
    "        altura, largura = img.shape\n",
    "    else:\n",
    "        largura, altura = img.size  # Isso é para imagens Pillow\n",
    "\n",
    "    # Percorrer todos os pixels e aplicar a conversão para preto e branco\n",
    "    for y in range(altura):\n",
    "        for x in range(largura):\n",
    "            if img[y, x] < 127:  # Para NumPy, acessamos com [y, x]\n",
    "                img[y, x] = 0\n",
    "            else:\n",
    "                img[y, x] = 255\n",
    "\n",
    "    return img\n",
    "\n",
    "# Exemplo de uso\n",
    "\n",
    "# Convertendo a imagem para preto e branco\n",
    "img_bw = convert_image_to_black_white(img_gray)  \n",
    "\n",
    "# Convertendo de volta para Pillow para visualização ou salvamento\n",
    "img_pillow = Image.fromarray(img_bw.astype('uint8'))  \n",
    "img_pillow.show()  # Exibir a imagem resultante\n"
   ]
  }
 ],
 "metadata": {
  "kernelspec": {
   "display_name": "Python 3 (ipykernel)",
   "language": "python",
   "name": "python3"
  },
  "language_info": {
   "codemirror_mode": {
    "name": "ipython",
    "version": 3
   },
   "file_extension": ".py",
   "mimetype": "text/x-python",
   "name": "python",
   "nbconvert_exporter": "python",
   "pygments_lexer": "ipython3",
   "version": "3.12.4"
  }
 },
 "nbformat": 4,
 "nbformat_minor": 5
}
